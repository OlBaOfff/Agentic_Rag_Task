{
 "cells": [
  {
   "cell_type": "code",
   "execution_count": null,
   "id": "d0183de2",
   "metadata": {},
   "outputs": [],
   "source": [
    "# Demo notebook- agentic rag\n",
    "\n",
    "# A teljes RAG pipeline LangChainnel\n",
    "\n",
    "# 1 Loader 2 Chunker 3 Embeddings (HuggungFace) 4 Chroma 5 Retreiver 6 RetrievalQA + LLM\n"
   ]
  },
  {
   "cell_type": "code",
   "execution_count": 40,
   "id": "b1d0c164",
   "metadata": {},
   "outputs": [],
   "source": [
    "import sys\n",
    "from pathlib import Path\n",
    "\n",
    "root = Path.cwd().parent\n",
    "if str(root) not in sys.path:\n",
    "    sys.path.append(str(root))"
   ]
  },
  {
   "cell_type": "code",
   "execution_count": 41,
   "id": "901b37ae",
   "metadata": {},
   "outputs": [],
   "source": [
    "#Környezet tesztelése + importok \n",
    "\n",
    "from src.agentic_rag.loader import load_sample\n",
    "from src.agentic_rag.chunker import simple_chunk\n",
    "from langchain.embeddings import HuggingFaceEmbeddings\n",
    "from langchain_community.vectorstores import Chroma\n",
    "from langchain_community.llms import HuggingFacePipeline\n",
    "from langchain.chains import RetrievalQA\n",
    "from transformers import pipeline\n"
   ]
  },
  {
   "cell_type": "code",
   "execution_count": 42,
   "id": "77d125f1",
   "metadata": {},
   "outputs": [],
   "source": [
    "#Loader\n",
    "\n",
    "text = load_sample()"
   ]
  },
  {
   "cell_type": "code",
   "execution_count": 43,
   "id": "1c9647e9",
   "metadata": {},
   "outputs": [
    {
     "name": "stdout",
     "output_type": "stream",
     "text": [
      "1. Cats sometimes behave arrogantly. Dogs are much friendlier. Birds can\n",
      "2. fly high in the sky. Fish swim in the water.\n"
     ]
    }
   ],
   "source": [
    "#Chunker\n",
    "\n",
    "chunks = simple_chunk(text,max_words=10)\n",
    "for i, chun in enumerate(chunks[:3], 1):\n",
    "    print(f\"{i}.\", chun)"
   ]
  },
  {
   "cell_type": "code",
   "execution_count": 44,
   "id": "8940b1f4",
   "metadata": {},
   "outputs": [
    {
     "name": "stdout",
     "output_type": "stream",
     "text": [
      "Done.\n"
     ]
    }
   ],
   "source": [
    "\n",
    "embedding_model = HuggingFaceEmbeddings(model_name=\"all-MiniLM-L6-V2\")\n",
    "vectorstore = Chroma(collection_name=\"rag_collection_demo\",embedding_function=embedding_model)\n",
    "vectorstore.add_texts(chunks)\n",
    "retiever = vectorstore.as_retriever(search_kwargs={\"k\":2})\n",
    "print(\"Done.\")"
   ]
  },
  {
   "cell_type": "code",
   "execution_count": 47,
   "id": "9346392d",
   "metadata": {},
   "outputs": [
    {
     "name": "stdout",
     "output_type": "stream",
     "text": [
      "what is your opinion on cats?\n",
      "1. Cats sometimes behave arrogantly. Dogs are much friendlier. Birds can\n",
      "2. Cats sometimes behave arrogantly. Dogs are much friendlier. Birds can\n"
     ]
    }
   ],
   "source": [
    "# Retriever teszt\n",
    "\n",
    "question = \"what is your opinion on cats?\"\n",
    "doc = retiever.get_relevant_documents(question)\n",
    "\n",
    "print(question)\n",
    "for i, d in enumerate(doc, 1):\n",
    "    print(f\"{i}.\", d.page_content)\n"
   ]
  },
  {
   "cell_type": "code",
   "execution_count": null,
   "id": "40ee5dee",
   "metadata": {},
   "outputs": [
    {
     "name": "stderr",
     "output_type": "stream",
     "text": [
      "Device set to use cpu\n"
     ]
    },
    {
     "name": "stdout",
     "output_type": "stream",
     "text": [
      "arrogant\n"
     ]
    }
   ],
   "source": [
    "hf_generator =  pipeline(\"text2text-generation\", model=\"google/flan-t5-base\")\n",
    "llm = HuggingFacePipeline(pipeline=hf_generator)\n",
    "\n",
    "quan = RetrievalQA.from_chain_type(\n",
    "    llm=llm,\n",
    "    retriever=retiever,\n",
    "    chain_type=\"stuff\"\n",
    ")\n",
    "\n",
    "answer = quan.run(question)\n",
    "print(answer)"
   ]
  },
  {
   "cell_type": "code",
   "execution_count": 49,
   "id": "5ae6fc59",
   "metadata": {},
   "outputs": [
    {
     "name": "stdout",
     "output_type": "stream",
     "text": [
      "\n",
      " Which animal can swim?\n",
      "Retrieved: ['fly high in the sky. Fish swim in the water.', 'fly high in the sky. Fish swim in the water.']\n",
      "Answer: Fish\n",
      "\n",
      " what do you think about dogs?\n",
      "Retrieved: ['Cats sometimes behave arrogantly. Dogs are much friendlier. Birds can', 'Cats sometimes behave arrogantly. Dogs are much friendlier. Birds can']\n",
      "Answer: i think dogs are much friendlier than cats\n",
      "\n",
      " what is your opinion on cats?\n",
      "Retrieved: ['Cats sometimes behave arrogantly. Dogs are much friendlier. Birds can', 'Cats sometimes behave arrogantly. Dogs are much friendlier. Birds can']\n",
      "Answer: arrogant\n"
     ]
    }
   ],
   "source": [
    "questions = [\n",
    "    \"Which animal can swim?\",\n",
    "    \"what do you think about dogs?\",\n",
    "    \"what is your opinion on cats?\"\n",
    "]\n",
    "\n",
    "for i in questions:\n",
    "    doc = retiever.get_relevant_documents(i)\n",
    "    answers = quan.run(i)\n",
    "    print(f\"\\n {i}\")\n",
    "    print(f\"Retrieved: {[d.page_content for d in doc]}\")\n",
    "    print(f\"Answer: {answers}\")"
   ]
  }
 ],
 "metadata": {
  "kernelspec": {
   "display_name": ".venv",
   "language": "python",
   "name": "python3"
  },
  "language_info": {
   "codemirror_mode": {
    "name": "ipython",
    "version": 3
   },
   "file_extension": ".py",
   "mimetype": "text/x-python",
   "name": "python",
   "nbconvert_exporter": "python",
   "pygments_lexer": "ipython3",
   "version": "3.11.9"
  }
 },
 "nbformat": 4,
 "nbformat_minor": 5
}
